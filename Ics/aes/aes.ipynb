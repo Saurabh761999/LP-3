{
 "cells": [
  {
   "cell_type": "code",
   "execution_count": 22,
   "id": "a4e78436",
   "metadata": {},
   "outputs": [
    {
     "name": "stdout",
     "output_type": "stream",
     "text": [
      "enter key:shgbnkfeqplmazkn\n",
      "enter data:Saurabh Singh is the Best\n",
      "Encrypted message is :  b'\\x11\\x9aF\\xd2\\xdbg3]\\xb0\\xdc{\\x1d\\xecs\\xa1\\x19%jSd\\xb9.x+\\xd3'\n",
      "Original Message was:  Saurabh Singh is the Best\n"
     ]
    }
   ],
   "source": [
    "from Crypto.Cipher import AES\n",
    "\n",
    "#key has to be either 16, 24 or 32 bytes\n",
    "\n",
    "key = (input(\"enter key:\")).encode('ascii')\n",
    "data =  (input(\"enter data:\")).encode('ascii')\n",
    "\n",
    "\n",
    "e_cipher = AES.new(key, AES.MODE_EAX)\n",
    "e_data = e_cipher.encrypt(data)\n",
    "\n",
    "d_cipher = AES.new(key, AES.MODE_EAX,e_cipher.nonce)\n",
    "d_data = d_cipher.decrypt(e_data)\n",
    "\n",
    "print(\"Encrypted message is : \", e_data)\n",
    "print(\"Original Message was: \", d_data.decode('ascii'))"
   ]
  }
 ],
 "metadata": {
  "kernelspec": {
   "display_name": "Python 3 (ipykernel)",
   "language": "python",
   "name": "python3"
  },
  "language_info": {
   "codemirror_mode": {
    "name": "ipython",
    "version": 3
   },
   "file_extension": ".py",
   "mimetype": "text/x-python",
   "name": "python",
   "nbconvert_exporter": "python",
   "pygments_lexer": "ipython3",
   "version": "3.9.12"
  }
 },
 "nbformat": 4,
 "nbformat_minor": 5
}
