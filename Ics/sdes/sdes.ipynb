{
 "cells": [
  {
   "cell_type": "code",
   "execution_count": 15,
   "id": "048ce68c",
   "metadata": {},
   "outputs": [],
   "source": [
    "import pyDes\n",
    "from time import time"
   ]
  },
  {
   "cell_type": "code",
   "execution_count": 19,
   "id": "d0562f83",
   "metadata": {},
   "outputs": [
    {
     "name": "stdout",
     "output_type": "stream",
     "text": [
      "Please enter plain text for encryption:saurabh\n",
      "Enter 16/24 byte string for key generation:shjfbkljsgruaher\n",
      "cipher text: b\"\\xc8\\xc5\\x99\\xf1\\xcc4\\xcc'\"\n",
      "plain text: b'saurabh'\n",
      "Elapsed time for 1,000 encryptions: 1.376s\n"
     ]
    }
   ],
   "source": [
    "data = input(\"Please enter plain text for encryption:\")\n",
    "keystring=input(\"Enter 16/24 byte string for key generation:\")\n",
    "k = pyDes.triple_des(keystring, padmode=pyDes.PAD_PKCS5)\n",
    "e = k.encrypt(data)\n",
    "print (\"cipher text: %r\" % e)\n",
    "\n",
    "#%r to be useful for printing a string of unknown encoding\n",
    "\n",
    "print (\"plain text: %r\" % k.decrypt(e))\n",
    "t1 = time()\n",
    "for i in range(1000):\n",
    "     e = k.encrypt(data)\n",
    "t2 = time()\n",
    "print(\"Elapsed time for 1,000 encryptions: {:0.3f}s\".format(t2 - t1))"
   ]
  }
 ],
 "metadata": {
  "kernelspec": {
   "display_name": "Python 3 (ipykernel)",
   "language": "python",
   "name": "python3"
  },
  "language_info": {
   "codemirror_mode": {
    "name": "ipython",
    "version": 3
   },
   "file_extension": ".py",
   "mimetype": "text/x-python",
   "name": "python",
   "nbconvert_exporter": "python",
   "pygments_lexer": "ipython3",
   "version": "3.9.12"
  }
 },
 "nbformat": 4,
 "nbformat_minor": 5
}
