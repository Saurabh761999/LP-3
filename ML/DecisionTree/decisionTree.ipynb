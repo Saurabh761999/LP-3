{
 "cells": [
  {
   "cell_type": "code",
   "execution_count": 51,
   "id": "8c119f64",
   "metadata": {},
   "outputs": [],
   "source": [
    "import pandas as pd\n",
    "import numpy as np"
   ]
  },
  {
   "cell_type": "code",
   "execution_count": 52,
   "id": "126fe9e8",
   "metadata": {},
   "outputs": [
    {
     "name": "stdout",
     "output_type": "stream",
     "text": [
      "    Id    Age  Income  Gender Marital_status Buys\n",
      "0    1    <21    High    Male         Single   No\n",
      "1    2    <21    High    Male        Married   No\n",
      "2    3  21-35    high    male         Single  Yes\n",
      "3    4    >35  Medium    male         Single  Yes\n",
      "4    5    >35     Low  Female         Single  Yes\n",
      "5    6    >35     Low  Female        Married   No\n",
      "6    7  21-35     Low  Female        Married  Yes\n",
      "7    8    <21  Medium    Male         Single   No\n",
      "8    9    <21     Low  Female        Married  Yes\n",
      "9   10    >35  Medium  Female         Single  Yes\n",
      "10  11    <21  Medium  Female        Married  Yes\n",
      "11  12  21-35  Medium    Male        Married  Yes\n",
      "12  13  21-35    High  Female         Single  Yes\n",
      "13  14    >35  Medium    Male        Married   No\n"
     ]
    }
   ],
   "source": [
    "data = pd.read_csv(\"Data.csv\")\n",
    "print(data)"
   ]
  },
  {
   "cell_type": "code",
   "execution_count": 53,
   "id": "11458ab0",
   "metadata": {},
   "outputs": [
    {
     "name": "stdout",
     "output_type": "stream",
     "text": [
      "      Age  Income  Gender Marital_status\n",
      "0     <21    High    Male         Single\n",
      "1     <21    High    Male        Married\n",
      "2   21-35    high    male         Single\n",
      "3     >35  Medium    male         Single\n",
      "4     >35     Low  Female         Single\n",
      "5     >35     Low  Female        Married\n",
      "6   21-35     Low  Female        Married\n",
      "7     <21  Medium    Male         Single\n",
      "8     <21     Low  Female        Married\n",
      "9     >35  Medium  Female         Single\n",
      "10    <21  Medium  Female        Married\n",
      "11  21-35  Medium    Male        Married\n",
      "12  21-35    High  Female         Single\n",
      "13    >35  Medium    Male        Married\n",
      "---------------------------------------------\n",
      "0      No\n",
      "1      No\n",
      "2     Yes\n",
      "3     Yes\n",
      "4     Yes\n",
      "5      No\n",
      "6     Yes\n",
      "7      No\n",
      "8     Yes\n",
      "9     Yes\n",
      "10    Yes\n",
      "11    Yes\n",
      "12    Yes\n",
      "13     No\n",
      "Name: Buys, dtype: object\n"
     ]
    }
   ],
   "source": [
    "x = data.iloc[: , 1:-1]\n",
    "y = data.iloc[: , -1]\n",
    "print(x)\n",
    "print(\"---------------------------------------------\")\n",
    "print(y)"
   ]
  },
  {
   "cell_type": "code",
   "execution_count": 54,
   "id": "a1f9cadb",
   "metadata": {},
   "outputs": [],
   "source": [
    "from sklearn.preprocessing import LabelEncoder\n",
    "labelencoder = LabelEncoder()"
   ]
  },
  {
   "cell_type": "code",
   "execution_count": 55,
   "id": "fac53fb6",
   "metadata": {},
   "outputs": [
    {
     "name": "stdout",
     "output_type": "stream",
     "text": [
      "    Age  Income  Gender  Marital_status\n",
      "0     1       0       1               1\n",
      "1     1       0       1               0\n",
      "2     0       3       2               1\n",
      "3     2       2       2               1\n",
      "4     2       1       0               1\n",
      "5     2       1       0               0\n",
      "6     0       1       0               0\n",
      "7     1       2       1               1\n",
      "8     1       1       0               0\n",
      "9     2       2       0               1\n",
      "10    1       2       0               0\n",
      "11    0       2       1               0\n",
      "12    0       0       0               1\n",
      "13    2       2       1               0\n"
     ]
    }
   ],
   "source": [
    "x = x.apply(labelencoder.fit_transform)  # perform label Encoding\n",
    "print(x)"
   ]
  },
  {
   "cell_type": "code",
   "execution_count": 56,
   "id": "5f052a51",
   "metadata": {},
   "outputs": [
    {
     "data": {
      "text/plain": [
       "DecisionTreeClassifier(criterion='entropy')"
      ]
     },
     "execution_count": 56,
     "metadata": {},
     "output_type": "execute_result"
    }
   ],
   "source": [
    "from sklearn.tree import DecisionTreeClassifier  #trained the algorihm using given data\n",
    "classifier = DecisionTreeClassifier(criterion=\"entropy\")\n",
    "classifier.fit(x, y)"
   ]
  },
  {
   "cell_type": "code",
   "execution_count": 57,
   "id": "12247dc4",
   "metadata": {},
   "outputs": [],
   "source": [
    "# predict the value on given expression\n",
    "x_in = np.array([1,1,0,0])"
   ]
  },
  {
   "cell_type": "code",
   "execution_count": 58,
   "id": "6ab5eb83",
   "metadata": {},
   "outputs": [
    {
     "name": "stdout",
     "output_type": "stream",
     "text": [
      "['Yes']\n"
     ]
    },
    {
     "name": "stderr",
     "output_type": "stream",
     "text": [
      "C:\\ProgramData\\Anaconda3\\lib\\site-packages\\sklearn\\base.py:450: UserWarning: X does not have valid feature names, but DecisionTreeClassifier was fitted with feature names\n",
      "  warnings.warn(\n"
     ]
    }
   ],
   "source": [
    "y_pred = classifier.predict([x_in])\n",
    "print(y_pred)"
   ]
  },
  {
   "cell_type": "code",
   "execution_count": 59,
   "id": "36c4d992",
   "metadata": {},
   "outputs": [],
   "source": [
    "# from six import StringIO\n",
    "# from IPython.display import Image\n",
    "# from sklearn.tree import export_graphviz\n",
    "# #import pydotplus\n"
   ]
  },
  {
   "cell_type": "code",
   "execution_count": 60,
   "id": "778e581a",
   "metadata": {},
   "outputs": [
    {
     "data": {
      "text/plain": [
       "[Text(0.375, 0.9, 'Age <= 0.5\\nentropy = 0.94\\nsamples = 14\\nvalue = [5, 9]\\nclass = Yes'),\n",
       " Text(0.25, 0.7, 'entropy = 0.0\\nsamples = 4\\nvalue = [0, 4]\\nclass = Yes'),\n",
       " Text(0.5, 0.7, 'Gender <= 0.5\\nentropy = 1.0\\nsamples = 10\\nvalue = [5, 5]\\nclass = No'),\n",
       " Text(0.25, 0.5, 'Age <= 1.5\\nentropy = 0.722\\nsamples = 5\\nvalue = [1, 4]\\nclass = Yes'),\n",
       " Text(0.125, 0.3, 'entropy = 0.0\\nsamples = 2\\nvalue = [0, 2]\\nclass = Yes'),\n",
       " Text(0.375, 0.3, 'Marital_status <= 0.5\\nentropy = 0.918\\nsamples = 3\\nvalue = [1, 2]\\nclass = Yes'),\n",
       " Text(0.25, 0.1, 'entropy = 0.0\\nsamples = 1\\nvalue = [1, 0]\\nclass = No'),\n",
       " Text(0.5, 0.1, 'entropy = 0.0\\nsamples = 2\\nvalue = [0, 2]\\nclass = Yes'),\n",
       " Text(0.75, 0.5, 'Gender <= 1.5\\nentropy = 0.722\\nsamples = 5\\nvalue = [4, 1]\\nclass = No'),\n",
       " Text(0.625, 0.3, 'entropy = 0.0\\nsamples = 4\\nvalue = [4, 0]\\nclass = No'),\n",
       " Text(0.875, 0.3, 'entropy = 0.0\\nsamples = 1\\nvalue = [0, 1]\\nclass = Yes')]"
      ]
     },
     "execution_count": 60,
     "metadata": {},
     "output_type": "execute_result"
    },
    {
     "data": {
      "image/png": "[encoded data removed]",
      "text/plain": [
       "<Figure size 432x288 with 1 Axes>"
      ]
     },
     "metadata": {
      "needs_background": "light"
     },
     "output_type": "display_data"
    }
   ],
   "source": [
    "from sklearn.tree import plot_tree\n",
    "plot_tree(classifier,  feature_names=x.columns, class_names=[\"No\",\"Yes\"],filled=\"true\",)\n"
   ]
  }
 ],
 "metadata": {
  "kernelspec": {
   "display_name": "Python 3 (ipykernel)",
   "language": "python",
   "name": "python3"
  },
  "language_info": {
   "codemirror_mode": {
    "name": "ipython",
    "version": 3
   },
   "file_extension": ".py",
   "mimetype": "text/x-python",
   "name": "python",
   "nbconvert_exporter": "python",
   "pygments_lexer": "ipython3",
   "version": "3.9.12"
  }
 },
 "nbformat": 4,
 "nbformat_minor": 5
}
